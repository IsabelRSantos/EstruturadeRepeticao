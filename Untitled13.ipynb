{
  "nbformat": 4,
  "nbformat_minor": 0,
  "metadata": {
    "colab": {
      "provenance": []
    },
    "kernelspec": {
      "name": "python3",
      "display_name": "Python 3"
    },
    "language_info": {
      "name": "python"
    }
  },
  "cells": [
    {
      "cell_type": "code",
      "execution_count": null,
      "metadata": {
        "id": "Zi_Cf-PT8im0"
      },
      "outputs": [],
      "source": [
        "maior_numero= 0\n",
        "\n",
        "for contador in range (5):\n",
        "  numero= int(input(\"digite um numero\"))\n",
        "  if numero > maior_numero:\n",
        "    maior_numero = numero\n",
        "print(maior_numero)"
      ]
    },
    {
      "cell_type": "code",
      "source": [
        "for contador in range(1000, 2001):\n",
        " if contador % 11 == 2:\n",
        "  print(contador)"
      ],
      "metadata": {
        "id": "QTDC39oe9iNm"
      },
      "execution_count": null,
      "outputs": []
    },
    {
      "cell_type": "code",
      "source": [
        "soma = 0\n",
        "for i in range (5):\n",
        "  numero = float(input(f\"digite 0 {i=1}° numero:\"))\n",
        "  soma += numero\n",
        "  media = soma/5\n",
        "\n",
        "print(f\"a soma dos numeros é: {soma}\")\n",
        "print(f\"a media dos numeros é:{media}\")"
      ],
      "metadata": {
        "id": "rrRXBMlk9wf8"
      },
      "execution_count": null,
      "outputs": []
    },
    {
      "cell_type": "code",
      "source": [
        "numero= int(input(\"digite um numero\"))\n",
        "for contador in range (1, 11):\n",
        "  resultado = numero * contador\n",
        "  print(f\"{numero}*{contador}) ={resultado}\")"
      ],
      "metadata": {
        "id": "TCZ5AtGu-0ai"
      },
      "execution_count": null,
      "outputs": []
    },
    {
      "cell_type": "code",
      "source": [
        "for n1 in range (1,11):\n",
        "  for n2 in range (1,11):\n",
        "    print(f\"{n1}*{n2}={n1*n2}\")\n",
        ""
      ],
      "metadata": {
        "id": "wRg2o9RI_VWM"
      },
      "execution_count": null,
      "outputs": []
    },
    {
      "cell_type": "code",
      "source": [
        "for contador in range (1,21):\n",
        "  print (contador)\n",
        ""
      ],
      "metadata": {
        "id": "DWj0BpDO_tC6"
      },
      "execution_count": null,
      "outputs": []
    },
    {
      "cell_type": "code",
      "source": [
        "for contador in range (1,52):\n",
        "  if contador % 2 !=0:\n",
        "    print (contador)"
      ],
      "metadata": {
        "id": "ubQfAClo_33K"
      },
      "execution_count": null,
      "outputs": []
    },
    {
      "cell_type": "code",
      "source": [
        "n1= int(input(\"digite o primeiro numero\"))\n",
        "n2= int(input(\"digite o segundo numero\"))\n",
        "for i in range (n1,n2):\n",
        "  print(i)"
      ],
      "metadata": {
        "id": "Ittiqyk_AG-u"
      },
      "execution_count": null,
      "outputs": []
    },
    {
      "cell_type": "code",
      "source": [
        "lojaA= 0\n",
        "lojaB= 54000\n",
        "\n",
        "for i in range(5):\n",
        "  valor=int(input(\"digite o valor\"))\n",
        "\n",
        "  lojaA+=valor\n",
        "if lojaA > lojaB:\n",
        "  print(\"lojaA superou lojaB\")\n",
        "elif lojaA == lojaB:\n",
        "  print(\"lojaB superou lojaA\")\n",
        "else:\n",
        "  print(\"a lojaB continua sendo superior\")"
      ],
      "metadata": {
        "id": "r0p_asBEAbN5"
      },
      "execution_count": null,
      "outputs": []
    },
    {
      "cell_type": "code",
      "source": [
        "par= 0\n",
        "impar= 0\n",
        "\n",
        "for i in range (10):\n",
        "  contador= int(input(\"digite um numero\"))\n",
        "  if contador % 2 !=0:\n",
        "    impar +=1\n",
        "  elif contador % 2 == 0:\n",
        "    par +=1\n",
        "print(f\"numeros impares{impar},numeros pares{par}\")"
      ],
      "metadata": {
        "id": "dkaXJDLnBOdO"
      },
      "execution_count": null,
      "outputs": []
    },
    {
      "cell_type": "code",
      "source": [
        "salario= float(input(\"digite o salario inicial do funcionario\"))\n",
        "percentual= 0.015\n",
        "\n",
        "for i in range (1996 , 2025):\n",
        "  aumento = salario * percentual\n",
        "  salario += aumento\n",
        "  percentual *= 2\n",
        "  print(f\"salario em {i} = {salario:.2f}\")"
      ],
      "metadata": {
        "id": "eEOi2qnoCFNY"
      },
      "execution_count": null,
      "outputs": []
    },
    {
      "cell_type": "code",
      "source": [
        "for i in range(5):\n",
        "  nota=float(input(\"digite uma nota\"))\n",
        "  if nota < 0 or nota > 10:\n",
        "    print(\"valor invalido\")\n",
        "  else:\n",
        "    print(\"valor valido\")"
      ],
      "metadata": {
        "id": "gylRy6J-EO_G"
      },
      "execution_count": null,
      "outputs": []
    },
    {
      "cell_type": "code",
      "source": [
        "valor = float(input(\"digite o valor da compra\"))\n",
        "contagem = 1\n",
        "\n",
        "if valor >= 600 and contagem:\n",
        "   reduzido = valor - 500\n",
        "   if reduzido >= 500 or contagem <= 24:\n",
        "    for x in range(5):\n",
        "      contagem += 1\n",
        "      reduzido -= 100\n",
        "      if reduzido < 100 or contagem == 24:\n",
        "        break\n",
        "\n",
        "porcentagem = contagem/100\n",
        "desconto = valor * porcentagem\n",
        "final = valor - desconto\n",
        "print(f\"o produto de R${valor:.2f} ficará a partir de R${final} com {contagem::.0f}% de desconto\")"
      ],
      "metadata": {
        "id": "IuJDWloZKTSE"
      },
      "execution_count": null,
      "outputs": []
    },
    {
      "cell_type": "code",
      "source": [
        "base = float(input(\"digite o numero base:\"))\n",
        "expoente = int(input(\"digite o numero do expoente:\"))\n",
        "\n",
        "resultado = 1\n",
        "\n",
        "for i in range(expoente):\n",
        "  resultado*= base\n",
        "\n",
        "print(f\"O resultado é de {base} elevado a {expoente} é:\" , resultado)"
      ],
      "metadata": {
        "id": "o0K_7znALxcT"
      },
      "execution_count": null,
      "outputs": []
    },
    {
      "cell_type": "code",
      "source": [
        "n = int(input(\"digite um numero: \"))\n",
        "\n",
        "for numerotestado in range(1, n+1):\n",
        "  for numerodivisor in range(numerotestado):\n",
        "    print(f\"{numerotestado}/{numerodivisor+1} = {numerotestado%(numerodivisor+1)}\")\n",
        "    if numerotestado % (numerodivisor+1) ==0:\n",
        "     if 1 != numerodivisor+1 != numerotestado:\n",
        "      print(\"nao é filho da minha tia\")\n",
        "      break\n",
        "     elif numerodivisor+1 == numerotestado:\n",
        "       print(\"é primo\")"
      ],
      "metadata": {
        "id": "SNocVB-jNB2j"
      },
      "execution_count": null,
      "outputs": []
    },
    {
      "cell_type": "code",
      "source": [
        "ate15=0\n",
        "de16a30=0\n",
        "de31a45=0\n",
        "de46a60=0\n",
        "acimados61=0\n",
        "\n",
        "\n",
        "for i in range(15):\n",
        " idade= int(input(\"digite sua idade\"))\n",
        " if idade <=15:\n",
        "  ate15 += 1\n",
        " elif idade <=30:\n",
        "  de16a30 += 1\n",
        " elif idade <=45:\n",
        "  de31a45 += 1\n",
        " elif idade <=60:\n",
        "  de46a60 += 1\n",
        " else:\n",
        "  acimados61 += 1\n",
        "\n",
        "totaldepessoas= ate15 + de16a30 + de31a45 + de46a60 + acimados61\n",
        "\n",
        "porcentagemdeate15= (ate15/totaldepessoas)*100\n",
        "porcentagemacimados61= (acimados61/totaldepessoas)*100\n",
        "\n",
        "print(f\"pessoas com até 15 anos: {ate15} , pessoas com de 16 a 30 anos: {de16a30}, pessoas de 31 a 45 {de31a45},pessoas com 46 a 60 anos: {de46a60} , pessoas com mais de 61 anos: {acimados61} \")\n",
        "print(f\"porcentagem das pessoas com até 15:{porcentagemdeate15}% , porcentagem de pessoas acima de 61:{porcentagemacimados61}%\")"
      ],
      "metadata": {
        "colab": {
          "base_uri": "https://localhost:8080/"
        },
        "id": "8pod8l9PPLRc",
        "outputId": "5b3ca9e4-7593-4cca-f4c4-862ac94d3a24"
      },
      "execution_count": 4,
      "outputs": [
        {
          "output_type": "stream",
          "name": "stdout",
          "text": [
            "digite sua idade20\n",
            "digite sua idade78\n",
            "digite sua idade50\n",
            "digite sua idade25\n",
            "digite sua idade15\n",
            "digite sua idade20\n",
            "digite sua idade19\n",
            "digite sua idade32\n",
            "digite sua idade45\n",
            "digite sua idade50\n",
            "digite sua idade22\n",
            "digite sua idade24\n",
            "digite sua idade18\n",
            "digite sua idade19\n",
            "digite sua idade34\n",
            "Pessoas com até 15 anos: 1 , pessoa com de 16 a 30 anos: 8 ,pessoas de 31 a 45 3, Pessoa com 46 a 60 anos: 2 ,  Pessoa com mas de 61 anos: 1 \n",
            "porcentagem das pessoa com até 15:6.666666666666667% , porcentagem de pessoas acima de 61:6.666666666666667%\n"
          ]
        }
      ]
    }
  ]
}